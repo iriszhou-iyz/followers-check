{
 "cells": [
  {
   "cell_type": "code",
   "execution_count": null,
   "id": "a571d93a",
   "metadata": {},
   "outputs": [],
   "source": [
    "## IF JSON FILES\n",
    "\n",
    "# import json\n",
    "\n",
    "# with open('followers_and_following/followers.json', 'r', encoding='utf-8') as followers_json:\n",
    "#     followers_data = json.load(followers_json)\n",
    "\n",
    "# followers = []\n",
    "# for follower in followers_data:\n",
    "#     follower_username = follower['string_list_data'][0]['value']\n",
    "#     followers.append(follower_username)\n",
    "\n",
    "# print(len(followers))\n",
    "\n",
    "# with open('followers_and_following/followings.json', 'r', encoding='utf-8') as followings_json:\n",
    "#     followings_data = json.load(followings_json)\n",
    "\n",
    "# followings = []\n",
    "# for following in followings_data:\n",
    "#     following_username = following['string_list_data'][0]['value']\n",
    "#     followings.append(following_username)\n",
    "\n",
    "# print(\"followings: \", followings)\n",
    "\n",
    "# print(len(following))"
   ]
  },
  {
   "cell_type": "code",
   "execution_count": 2,
   "id": "63326747",
   "metadata": {},
   "outputs": [],
   "source": [
    "import bs4\n",
    "from bs4 import BeautifulSoup"
   ]
  },
  {
   "cell_type": "code",
   "execution_count": 4,
   "id": "232c48d8",
   "metadata": {},
   "outputs": [],
   "source": [
    "with open('./followers_and_following/followers_1.html', 'r', encoding='utf-8') as followers_html:\n",
    "    soup = BeautifulSoup(followers_html, 'html.parser')"
   ]
  },
  {
   "cell_type": "code",
   "execution_count": 5,
   "id": "701e4c83",
   "metadata": {},
   "outputs": [],
   "source": [
    "followers = []\n",
    "for a in soup.find_all('a'):\n",
    "    username = a.text.strip()\n",
    "    if username:\n",
    "        followers.append(username)\n",
    "\n",
    "followers_set = set(followers)"
   ]
  },
  {
   "cell_type": "code",
   "execution_count": 6,
   "id": "857c4f68",
   "metadata": {},
   "outputs": [
    {
     "name": "stdout",
     "output_type": "stream",
     "text": [
      "2242\n"
     ]
    }
   ],
   "source": [
    "print(len(followers_set))"
   ]
  },
  {
   "cell_type": "code",
   "execution_count": 7,
   "id": "d35c3130",
   "metadata": {},
   "outputs": [],
   "source": [
    "with open('./followers_and_following/following.html', 'r', encoding='utf-8') as following_html:\n",
    "    soup = BeautifulSoup(following_html, 'html.parser')"
   ]
  },
  {
   "cell_type": "code",
   "execution_count": 8,
   "id": "944c4e76",
   "metadata": {},
   "outputs": [],
   "source": [
    "following = []\n",
    "for a in soup.find_all('a'):\n",
    "    username = a.text.strip()\n",
    "    if username:\n",
    "        following.append(username)\n",
    "\n",
    "following_set = set(following)"
   ]
  },
  {
   "cell_type": "code",
   "execution_count": 9,
   "id": "ff35592b",
   "metadata": {},
   "outputs": [
    {
     "name": "stdout",
     "output_type": "stream",
     "text": [
      "2155\n"
     ]
    }
   ],
   "source": [
    "print(len(following_set))"
   ]
  },
  {
   "cell_type": "code",
   "execution_count": 10,
   "id": "65c8b2ee",
   "metadata": {},
   "outputs": [],
   "source": [
    "## UNOPTIMIZED\n",
    "\n",
    "# mutual = []\n",
    "# they_dont_follow_you_back = []\n",
    "# you_dont_follow_them_back = []\n",
    "\n",
    "# for follower in followers:\n",
    "#     if follower in following:\n",
    "#         mutual.append(follower)\n",
    "#     else:\n",
    "#         you_dont_follow_them_back.append(follower)\n",
    "\n",
    "# for f in following:\n",
    "#     if f not in followers:\n",
    "#         they_dont_follow_you_back.append(f)"
   ]
  },
  {
   "cell_type": "code",
   "execution_count": 11,
   "id": "15eb579e",
   "metadata": {},
   "outputs": [],
   "source": [
    "mutual = list(followers_set & following_set)\n",
    "\n",
    "they_dont_follow_you_back = list(following_set - followers_set)\n",
    "\n",
    "you_dont_follow_them_back = list(followers_set - following_set)"
   ]
  },
  {
   "cell_type": "code",
   "execution_count": 12,
   "id": "109550f9",
   "metadata": {},
   "outputs": [
    {
     "name": "stdout",
     "output_type": "stream",
     "text": [
      "amount of mutuals:  1956\n",
      "amount of people who don't follow you back:  199\n",
      "amount of people who you don't follow back:  286\n"
     ]
    }
   ],
   "source": [
    "print(\"amount of mutuals: \", len(mutual))\n",
    "print(\"amount of people who don't follow you back: \", len(they_dont_follow_you_back))\n",
    "print(\"amount of people who you don't follow back: \", len(you_dont_follow_them_back))"
   ]
  },
  {
   "cell_type": "code",
   "execution_count": 13,
   "id": "0173e9f5",
   "metadata": {},
   "outputs": [
    {
     "name": "stdout",
     "output_type": "stream",
     "text": [
      "saved your mutuals to out/mutuals.txt\n"
     ]
    }
   ],
   "source": [
    "with open('../out/mutuals.txt', 'w', encoding='utf-8') as mutuals_file:\n",
    "    for m in mutual:\n",
    "        mutuals_file.write(m + '\\n')\n",
    "\n",
    "print(\"saved your mutuals to out/mutuals.txt\")"
   ]
  },
  {
   "cell_type": "code",
   "execution_count": 14,
   "id": "c006c816",
   "metadata": {},
   "outputs": [
    {
     "name": "stdout",
     "output_type": "stream",
     "text": [
      "saved the people who don't follow you back to out/dont_follow_you_back.txt\n"
     ]
    }
   ],
   "source": [
    "with open('../out/dont_follow_you_back.txt', 'w', encoding='utf-8') as they_dont_follow_you_back_file:\n",
    "    for t in they_dont_follow_you_back:\n",
    "        they_dont_follow_you_back_file.write(t + '\\n')\n",
    "\n",
    "print(\"saved the people who don't follow you back to out/dont_follow_you_back.txt\")"
   ]
  },
  {
   "cell_type": "code",
   "execution_count": 15,
   "id": "39d7cc38",
   "metadata": {},
   "outputs": [
    {
     "name": "stdout",
     "output_type": "stream",
     "text": [
      "saved the people you don't follow back to out/you_dont_follow_back.txt\n"
     ]
    }
   ],
   "source": [
    "with open('../out/you_dont_follow_back.txt', 'w', encoding='utf-8') as you_dont_follow_them_back_file:\n",
    "    for y in you_dont_follow_them_back:\n",
    "        you_dont_follow_them_back_file.write(y + '\\n')\n",
    "\n",
    "print(\"saved the people you don't follow back to out/you_dont_follow_back.txt\")"
   ]
  },
  {
   "cell_type": "code",
   "execution_count": null,
   "id": "50718630",
   "metadata": {},
   "outputs": [],
   "source": []
  }
 ],
 "metadata": {
  "kernelspec": {
   "display_name": "base",
   "language": "python",
   "name": "python3"
  },
  "language_info": {
   "codemirror_mode": {
    "name": "ipython",
    "version": 3
   },
   "file_extension": ".py",
   "mimetype": "text/x-python",
   "name": "python",
   "nbconvert_exporter": "python",
   "pygments_lexer": "ipython3",
   "version": "3.12.7"
  }
 },
 "nbformat": 4,
 "nbformat_minor": 5
}
